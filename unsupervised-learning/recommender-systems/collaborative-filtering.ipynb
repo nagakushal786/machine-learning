{
 "cells": [
  {
   "cell_type": "markdown",
   "id": "708a78e2",
   "metadata": {},
   "source": [
    "## Collaborative Filtering"
   ]
  },
  {
   "cell_type": "code",
   "execution_count": null,
   "id": "1193aafa",
   "metadata": {},
   "outputs": [],
   "source": [
    "import numpy as np\n",
    "import tensorflow as tf\n",
    "from tensorflow import keras\n",
    "from recsys_utils import *\n",
    "from public_tests import *"
   ]
  },
  {
   "cell_type": "markdown",
   "id": "0abf1cca",
   "metadata": {},
   "source": [
    "### Dataset"
   ]
  },
  {
   "cell_type": "code",
   "execution_count": null,
   "id": "1464549a",
   "metadata": {},
   "outputs": [],
   "source": [
    "x_train, w_train, b_train, num_movies, num_features, num_users=load_precalc_params_small()\n",
    "y_train, r_train=load_ratings_small()\n",
    "\n",
    "print(f\"X: {x_train.shape}\")\n",
    "print(f\"Y: {y_train.shape}\")\n",
    "print(f\"R: {r_train.shape}\")\n",
    "print(f\"W: {w_train.shape}\")\n",
    "print(f\"b: {b_train.shape}\")\n",
    "print(f\"Movies: {num_movies}\")\n",
    "print(f\"Features: {num_features}\")\n",
    "print(f\"Users: {num_users}\")"
   ]
  },
  {
   "cell_type": "code",
   "execution_count": null,
   "id": "da8ade96",
   "metadata": {},
   "outputs": [],
   "source": [
    "# Finding average rating for movie 1\n",
    "\n",
    "tsmean=np.mean(y_train[0, r_train[0, :].astype(bool)])\n",
    "print(f\"Average Rating of Movie 1: {tsmean}/5\")"
   ]
  },
  {
   "cell_type": "markdown",
   "id": "f625b3b6",
   "metadata": {},
   "source": [
    "### Cost Function"
   ]
  },
  {
   "cell_type": "code",
   "execution_count": null,
   "id": "7be95006",
   "metadata": {},
   "outputs": [],
   "source": [
    "def cost_function(X, W, b, Y, R, lambda_):\n",
    "  nm, nu=Y.shape\n",
    "  J=0\n",
    "\n",
    "  for j in range(nu):\n",
    "    w=W[j, :]\n",
    "    b_j=b[0, j]\n",
    "    for i in range(nm):\n",
    "      x=X[i, :]\n",
    "      y=Y[i, j]\n",
    "      r=R[i, j]\n",
    "      J+=r*np.square((np.dot(w, x)+b_j)-y)\n",
    "\n",
    "  J+=(lambda_)*(np.sum(np.square(W))+np.sum(np.square(X)))\n",
    "  J=J/2\n",
    "\n",
    "  return J"
   ]
  },
  {
   "cell_type": "code",
   "execution_count": null,
   "id": "074777a5",
   "metadata": {},
   "outputs": [],
   "source": [
    "test_cofi_cost_func(cost_function)"
   ]
  },
  {
   "cell_type": "code",
   "execution_count": null,
   "id": "4652f100",
   "metadata": {},
   "outputs": [],
   "source": [
    "num_users_test=4\n",
    "num_movies_test=5\n",
    "num_features_test=3\n",
    "\n",
    "x_test=x_train[:num_movies_test, :num_features_test]\n",
    "w_test=w_train[:num_users_test, :num_features_test]\n",
    "b_test=b_train[0, :num_users_test].reshape(1, -1)\n",
    "y_test=y_train[:num_movies_test, :num_users_test]\n",
    "r_test=r_train[:num_movies_test, :num_users_test]\n",
    "\n",
    "J=cost_function(x_test, w_test, b_test, y_test, r_test, 0)\n",
    "print(f\"Cost function value: {J:0.4f}\")"
   ]
  },
  {
   "cell_type": "code",
   "execution_count": null,
   "id": "e1d1016e",
   "metadata": {},
   "outputs": [],
   "source": [
    "# Cost function for whole dataset\n",
    "J=cost_function(x_train, w_train, b_train, y_train, r_train, 1.5)\n",
    "print(f\"Cost function with regularization: {J:0.2f}\")"
   ]
  },
  {
   "cell_type": "markdown",
   "id": "275b6a71",
   "metadata": {},
   "source": [
    "### Vectorized Implementation of Cost Function"
   ]
  },
  {
   "cell_type": "code",
   "execution_count": null,
   "id": "1a2470ad",
   "metadata": {},
   "outputs": [],
   "source": [
    "def cost_function_vect(X, W, b, Y, R, lambda_):\n",
    "  j=((tf.linalg.matmul(X, tf.transpose(W))+b)-Y)*R\n",
    "  J=(0.5*tf.reduce_sum(j**2))+((lambda_/2)*(tf.reduce_sum(W**2)+tf.reduce_sum(X**2)))\n",
    "  return J"
   ]
  },
  {
   "cell_type": "code",
   "execution_count": null,
   "id": "9fddb953",
   "metadata": {},
   "outputs": [],
   "source": [
    "J=cost_function_vect(x_test, w_test, b_test, y_test, r_test, 1.5)\n",
    "print(f\"Cost function value: {J:0.4f}\")"
   ]
  },
  {
   "cell_type": "markdown",
   "id": "9a28f2a4",
   "metadata": {},
   "source": [
    "### Learning Movie Recommendations"
   ]
  },
  {
   "cell_type": "code",
   "execution_count": null,
   "id": "2a360b2b",
   "metadata": {},
   "outputs": [],
   "source": [
    "movieList, movieList_df=load_Movie_List_pd()"
   ]
  },
  {
   "cell_type": "code",
   "execution_count": null,
   "id": "cb8b6130",
   "metadata": {},
   "outputs": [],
   "source": [
    "my_ratings=np.zeros(num_movies)"
   ]
  },
  {
   "cell_type": "code",
   "execution_count": null,
   "id": "4e5f4969",
   "metadata": {},
   "outputs": [],
   "source": [
    "movieList_df"
   ]
  },
  {
   "cell_type": "code",
   "execution_count": null,
   "id": "c5238a04",
   "metadata": {},
   "outputs": [],
   "source": [
    "# Randomly assigning ratings to some movies\n",
    "\n",
    "my_ratings[2700]=5\n",
    "my_ratings[2609]=2\n",
    "my_ratings[929]=5\n",
    "my_ratings[246]=5\n",
    "my_ratings[2716]=3\n",
    "my_ratings[1150]=5\n",
    "my_ratings[382]=2\n",
    "my_ratings[366]=5\n",
    "my_ratings[622]=5\n",
    "my_ratings[988]=3\n",
    "my_ratings[2925]=1\n",
    "my_ratings[2937]=1\n",
    "my_ratings[793]=5"
   ]
  },
  {
   "cell_type": "code",
   "execution_count": null,
   "id": "2e99607e",
   "metadata": {},
   "outputs": [],
   "source": [
    "my_rated=[i for i in range(len(my_ratings)) if my_ratings[i]>0]"
   ]
  },
  {
   "cell_type": "code",
   "execution_count": null,
   "id": "c05e119e",
   "metadata": {},
   "outputs": [],
   "source": [
    "print(\"New User Ratings\")\n",
    "for i in range(len(my_ratings)):\n",
    "  if my_ratings[i]>0:\n",
    "    print(f\"Rated {my_ratings[i]} for {movieList_df.loc[i, \"title\"]}\")"
   ]
  },
  {
   "cell_type": "code",
   "execution_count": null,
   "id": "f2277396",
   "metadata": {},
   "outputs": [],
   "source": [
    "y_train, r_train=load_ratings_small()\n",
    "y_train=np.c_[my_ratings, y_train]\n",
    "r_train=np.c_[(my_ratings!=0).astype(int), r_train]"
   ]
  },
  {
   "cell_type": "code",
   "execution_count": null,
   "id": "0f8b9640",
   "metadata": {},
   "outputs": [],
   "source": [
    "y_norm, y_mean=normalizeRatings(y_train, r_train)"
   ]
  },
  {
   "cell_type": "code",
   "execution_count": null,
   "id": "378aa9bd",
   "metadata": {},
   "outputs": [],
   "source": [
    "num_movies, num_users=y_train.shape\n",
    "num_features=100"
   ]
  },
  {
   "cell_type": "code",
   "execution_count": null,
   "id": "35756d22",
   "metadata": {},
   "outputs": [],
   "source": [
    "tf.random.set_seed(1234)\n",
    "\n",
    "W=tf.Variable(tf.random.normal((num_users, num_features), dtype=tf.float64), name='W')\n",
    "X=tf.Variable(tf.random.normal((num_movies, num_features), dtype=tf.float64), name='X')\n",
    "b=tf.Variable(tf.random.normal((1, num_users), dtype=tf.float64), name='b')\n",
    "\n",
    "optimizer=keras.optimizers.Adam(learning_rate=1e-1)"
   ]
  },
  {
   "cell_type": "code",
   "execution_count": null,
   "id": "66ca36b4",
   "metadata": {},
   "outputs": [],
   "source": [
    "iterations=200\n",
    "lambda_=1\n",
    "\n",
    "for iter in range(iterations):\n",
    "  # To record the operations used to compute the cost\n",
    "  with tf.GradientTape() as tape:\n",
    "    cost_value=cost_function_vect(X, W, b, y_norm, r_train, lambda_)\n",
    "\n",
    "  # The gradients of the trainable variables w.r.t to the loss\n",
    "  gradients=tape.gradient(cost_value, [X, W, b])\n",
    "\n",
    "  # Apply gradient descent\n",
    "  optimizer.apply_gradients(zip(gradients, [X, W, b]))\n",
    "\n",
    "  if iter%20==0:\n",
    "    print(f\"Training loss at iteration {iter}: {cost_value:0.2f}\")"
   ]
  },
  {
   "cell_type": "markdown",
   "id": "4391c6fb",
   "metadata": {},
   "source": [
    "### Making Recommendations"
   ]
  },
  {
   "cell_type": "code",
   "execution_count": null,
   "id": "33ec48d9",
   "metadata": {},
   "outputs": [],
   "source": [
    "# Making predictions using trained weights and biases\n",
    "p=np.matmul(X.numpy(), np.transpose(W.numpy()))+b.numpy()\n",
    "\n",
    "# Restore the mean\n",
    "pm=p+y_mean\n",
    "\n",
    "my_predictions=pm[:, 0]\n",
    "\n",
    "ix=tf.argsort(my_predictions, direction='DESCENDING')\n",
    "\n",
    "for i in range(17):\n",
    "  j=ix[i]\n",
    "  if j not in my_rated:\n",
    "    print(f\"Predicted Rating: {my_predictions[j]:0.2f} for movie {movieList[j]}\")\n",
    "\n",
    "print(\"\\n\\n\")\n",
    "for i in range(len(my_ratings)):\n",
    "  if my_ratings[i]>0:\n",
    "    print(f\"Original Rating: {my_ratings[i]} Predicted Rating: {my_predictions[i]:0.2f} for movie {movieList[i]}\")"
   ]
  },
  {
   "cell_type": "code",
   "execution_count": null,
   "id": "616e8f7d",
   "metadata": {},
   "outputs": [],
   "source": [
    "filter=(movieList_df['number of ratings']>20)\n",
    "movieList_df[\"predicted rating\"]=my_predictions\n",
    "movieList_df=movieList_df.reindex(columns=['predicted rating', 'mean rating', 'number of ratings', 'title'])\n",
    "movieList_df.loc[ix[:300]].loc[filter].sort_values('mean rating', ascending=False)"
   ]
  },
  {
   "cell_type": "markdown",
   "id": "adde1010",
   "metadata": {},
   "source": [
    "## 🚫 Limitations: The Cold Start Problem\n",
    "\n",
    "### What is the **Cold Start Problem**?\n",
    "\n",
    "The cold start problem occurs when the system **doesn’t have enough data** about **new users** or **new items**, which makes it hard for collaborative filtering to generate accurate recommendations.\n",
    "\n",
    "### Two Scenarios of the Cold Start Problem:\n",
    "\n",
    "#### 1. **New Item Problem**\n",
    "\n",
    "* **Challenge**: How to **rank new items** (like a new movie, product, or book) that **few or no users have rated**?\n",
    "* **Why it's a problem**: Collaborative filtering works by looking at user interactions (ratings, clicks). If no one has rated or interacted with the new item, the system has no way to recommend it intelligently.\n",
    "\n",
    "#### 2. **New User Problem**\n",
    "\n",
    "* **Challenge**: How to **show relevant recommendations to new users** who have rated/interacted with **very few items**?\n",
    "* **Why it's a problem**: Without enough information about a user’s preferences, it’s hard to identify similar users or recommend items accurately.\n",
    "\n",
    "These two are the core aspects of the cold start problem.\n",
    "\n",
    "---\n",
    "\n",
    "## 🧠 Possible Solution: Use Side Information\n",
    "\n",
    "Since collaborative filtering struggles with cold starts, a common solution is to **supplement it with additional (side) information** about items or users.\n",
    "\n",
    "### 📦 Side Information About Items:\n",
    "\n",
    "You can enrich item data with content-based features like:\n",
    "\n",
    "* **Genre** (e.g., for movies: action, drama)\n",
    "* **Movie stars or authors**\n",
    "* **Studio or publisher**\n",
    "* **Release year, language, etc.**\n",
    "\n",
    "This can help recommend items even if they haven't been rated much, by matching content to the user’s known preferences.\n",
    "\n",
    "### 👤 Side Information About Users:\n",
    "\n",
    "You can also gather metadata about users such as:\n",
    "\n",
    "* **Demographics** (age, gender, location)\n",
    "* **Explicitly expressed preferences**\n",
    "* **Behavioral patterns (e.g., time of use, browsing habits)**\n",
    "\n",
    "With this data, you can make early predictions for new users based on demographic or behavioral similarities to existing users.\n",
    "\n",
    "---\n",
    "\n",
    "## ✅ Summary\n",
    "\n",
    "| Limitation            | Why It Happens                           | How to Mitigate                        |\n",
    "| --------------------- | ---------------------------------------- | -------------------------------------- |\n",
    "| Cold Start – New Item | No user has interacted with the item     | Use item metadata (genre, stars, etc.) |\n",
    "| Cold Start – New User | User hasn’t interacted with enough items | Use user demographics/preferences      |"
   ]
  }
 ],
 "metadata": {
  "kernelspec": {
   "display_name": "Python 3",
   "language": "python",
   "name": "python3"
  },
  "language_info": {
   "codemirror_mode": {
    "name": "ipython",
    "version": 3
   },
   "file_extension": ".py",
   "mimetype": "text/x-python",
   "name": "python",
   "nbconvert_exporter": "python",
   "pygments_lexer": "ipython3",
   "version": "3.12.10"
  }
 },
 "nbformat": 4,
 "nbformat_minor": 5
}
